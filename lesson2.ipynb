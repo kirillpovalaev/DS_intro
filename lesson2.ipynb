{
 "cells": [
  {
   "cell_type": "markdown",
   "id": "40cec068",
   "metadata": {},
   "source": [
    "# Занятие 2 — NumPy и Pandas\n",
    "\n",
    "**Цель:** ознакомиться с библиотеками NumPy и Pandas, научиться работать с массивами и таблицами, загрузить CSV (датасет Titanic) и выполнить базовый анализ: осмотр данных, поиск пропусков, агрегирование и подготовка простого отчёта.\n",
    "\n",
    "**План:**\n",
    "- NumPy: массивы, индексирование, reshape, broadcasting\n",
    "- Pandas: Series, DataFrame, чтение CSV, head/info/describe\n",
    "- Titanic — загрузка, пропуски, groupby, pivot, выборки\n",
    "- Мини-проект: краткий анализ и сохранение результатов\n"
   ]
  },
  {
   "cell_type": "code",
   "execution_count": 91,
   "id": "351abb80",
   "metadata": {},
   "outputs": [
    {
     "name": "stdout",
     "output_type": "stream",
     "text": [
      "Python: 3.12.11 (main, Jul 12 2025, 16:50:29) [GCC 14.2.1 20241028 (ALT Sisyphus 14.2.1-alt1)]\n",
      "NumPy: 2.1.3\n",
      "pandas: 2.2.3\n"
     ]
    }
   ],
   "source": [
    "# Базовые импорты\n",
    "import sys\n",
    "import numpy as np\n",
    "import pandas as pd\n",
    "\n",
    "print(\"Python:\", sys.version.splitlines()[0])\n",
    "print(\"NumPy:\", np.__version__)\n",
    "print(\"pandas:\", pd.__version__)"
   ]
  },
  {
   "cell_type": "markdown",
   "id": "4bd731ce",
   "metadata": {},
   "source": [
    "## 1. NumPy — массивы, индексирование, базовые операции\n",
    "Небольшая теория:\n",
    "- `ndarray` — основа NumPy (однородный, быстрый).\n",
    "- Индексация похожа на списки, но есть многомерные срезы.\n",
    "- Broadcasting — мощный инструмент для операций без циклов."
   ]
  },
  {
   "cell_type": "markdown",
   "id": "3301525a",
   "metadata": {},
   "source": [
    "### Создание массивов и базовые свойства"
   ]
  },
  {
   "cell_type": "code",
   "execution_count": 92,
   "id": "6931ad91",
   "metadata": {},
   "outputs": [
    {
     "name": "stdout",
     "output_type": "stream",
     "text": [
      "a: [1 2 3 4] dtype: int64 shape: (4,)\n",
      "\n",
      "M:\n",
      " [[1 2 3]\n",
      " [4 5 6]]\n",
      "shape M: (2, 3)\n",
      "\n",
      "zeros:\n",
      " [[0. 0. 0. 0.]\n",
      " [0. 0. 0. 0.]]\n",
      "ones: [1. 1. 1. 1. 1.]\n",
      "arange: [0 1 2 3 4 5 6 7 8 9]\n",
      "linspace: [0.   0.25 0.5  0.75 1.  ]\n"
     ]
    }
   ],
   "source": [
    "import numpy as np\n",
    "\n",
    "a = np.array([1, 2, 3, 4])\n",
    "print(\"a:\", a, \"dtype:\", a.dtype, \"shape:\", a.shape)\n",
    "\n",
    "M = np.array([[1,2,3],[4,5,6]])\n",
    "print(\"\\nM:\\n\", M)\n",
    "print(\"shape M:\", M.shape)\n",
    "\n",
    "zeros = np.zeros((2,4))\n",
    "ones = np.ones(5)\n",
    "ar = np.arange(10)  # 0..9\n",
    "lin = np.linspace(0,1,5)  # 5 чисел от 0 до 1\n",
    "print(\"\\nzeros:\\n\", zeros)\n",
    "print(\"ones:\", ones)\n",
    "print(\"arange:\", ar)\n",
    "print(\"linspace:\", lin)\n"
   ]
  },
  {
   "cell_type": "markdown",
   "id": "0e1d767f",
   "metadata": {},
   "source": [
    "### Индексация, срезы и reshape\n",
    "- Индексация: `arr[i]`, многомерная `M[i, j]`\n",
    "- Срезы: `arr[1:5]`, `M[:, 1]`\n",
    "- Изменение формы: `reshape`"
   ]
  },
  {
   "cell_type": "code",
   "execution_count": 93,
   "id": "e90d057b",
   "metadata": {},
   "outputs": [
    {
     "name": "stdout",
     "output_type": "stream",
     "text": [
      "b:\n",
      " [ 0  1  2  3  4  5  6  7  8  9 10 11]\n",
      "B:\n",
      " [[ 0  1  2  3]\n",
      " [ 4  5  6  7]\n",
      " [ 8  9 10 11]]\n",
      "B[1,2] = 6\n",
      "B[0] = [0 1 2 3]\n",
      "B[:,1] = [1 5 9]\n",
      "\n",
      "Булева маска (чётные):\n",
      " [[ True False  True False]\n",
      " [ True False  True False]\n",
      " [ True False  True False]]\n",
      "Чётные элементы: [ 0  2  4  6  8 10]\n"
     ]
    }
   ],
   "source": [
    "b = np.arange(12)\n",
    "print(\"b:\\n\", b)           # 0..11\n",
    "B = b.reshape(3,4)          # 3 строки, 4 столбца\n",
    "print(\"B:\\n\", B)\n",
    "\n",
    "print(\"B[1,2] =\", B[1,2])  # строка 1, столбец 2\n",
    "print(\"B[0] =\", B[0])      # первая строка\n",
    "print(\"B[:,1] =\", B[:,1])  # второй столбец\n",
    "\n",
    "mask = B % 2 == 0\n",
    "print(\"\\nБулева маска (чётные):\\n\", mask)\n",
    "print(\"Чётные элементы:\", B[mask])"
   ]
  },
  {
   "cell_type": "markdown",
   "id": "fd11b96c",
   "metadata": {},
   "source": [
    "### Векторные операции и Broadcasting\n",
    "- Операции выполняются поэлементно: `x + y`, `x * 2`\n",
    "- Broadcasting: добавление вектора к матрице и т.п."
   ]
  },
  {
   "cell_type": "code",
   "execution_count": 94,
   "id": "c87ed572",
   "metadata": {},
   "outputs": [
    {
     "name": "stdout",
     "output_type": "stream",
     "text": [
      "x + y = [11 22 33]\n",
      "x * 2 = [2 4 6]\n",
      "\n",
      "M:\n",
      " [[0 1 2]\n",
      " [3 4 5]]\n",
      "M + v:\n",
      " [[10 21 32]\n",
      " [13 24 35]]\n",
      "\n",
      "Сумма всех элементов: 15\n",
      "Сумма по столбцам: [3 5 7]\n",
      "Сумма по строкам: [ 3 12]\n"
     ]
    }
   ],
   "source": [
    "x = np.array([1,2,3])\n",
    "y = np.array([10,20,30])\n",
    "print(\"x + y =\", x + y)\n",
    "print(\"x * 2 =\", x * 2)\n",
    "\n",
    "M = np.arange(6).reshape(2,3)\n",
    "v = np.array([10,20,30])\n",
    "print(\"\\nM:\\n\", M)\n",
    "print(\"M + v:\\n\", M + v)   # v \"распространяется\" по строкам\n",
    "\n",
    "print(\"\\nСумма всех элементов:\", M.sum())\n",
    "print(\"Сумма по столбцам:\", M.sum(axis=0))\n",
    "print(\"Сумма по строкам:\", M.sum(axis=1))"
   ]
  },
  {
   "cell_type": "markdown",
   "id": "3f4e3bdb",
   "metadata": {},
   "source": [
    "### Полезные функции (ufuncs)\n",
    "- `np.sin` \n",
    "- `np.sqrt` \n",
    "- `np.where` \n",
    "- `np.clip` \n",
    "- `np.unique` \n",
    "- `np.mean` \n",
    "- `np.median`"
   ]
  },
  {
   "cell_type": "code",
   "execution_count": 95,
   "id": "e1ec4e78",
   "metadata": {},
   "outputs": [
    {
     "name": "stdout",
     "output_type": "stream",
     "text": [
      "arr: [0.         0.78539816 1.57079633 2.35619449 3.14159265]\n",
      "\n",
      "sin(arr): [0.00000000e+00 7.07106781e-01 1.00000000e+00 7.07106781e-01\n",
      " 1.22464680e-16]\n",
      "\n",
      "sqrt(0..4): [0.         1.         1.41421356 1.73205081 2.        ]\n",
      "\n",
      "A: [1 2 3 4 5 6]\n",
      "\n",
      "where A>3: (array([3, 4, 5]),)\n",
      "clip 2..5: [2 2 3 4 5 5]\n",
      "unique: [1 2 3]\n"
     ]
    }
   ],
   "source": [
    "arr = np.linspace(0, np.pi, 5)\n",
    "print(\"arr:\", arr)\n",
    "print()\n",
    "print(\"sin(arr):\", np.sin(arr))\n",
    "print()\n",
    "print(\"sqrt(0..4):\", np.sqrt(np.arange(5)))\n",
    "\n",
    "A = np.array([1,2,3,4,5,6])\n",
    "print()\n",
    "print(\"A:\", A)\n",
    "print(\"\\nwhere A>3:\", np.where(A>3))\n",
    "print(\"clip 2..5:\", np.clip(A, 2, 5)) # все значения, которые выходят за пределы заданного диапазона, заменяются на крайние значения этого диапазона. \n",
    "print(\"unique:\", np.unique([1,2,2,3]))"
   ]
  },
  {
   "cell_type": "markdown",
   "id": "b174a1f7",
   "metadata": {},
   "source": [
    "### Практика \n",
    "**Задания:**\n",
    "1. Создайте массив `arr` из 1..30. Извлеките элементы, кратные 3.  \n",
    "2. Создайте матрицу 6×5, поменяйте форму на 5×6, найдите сумму по столбцам.  \n",
    "3. Создайте два случайных массива `a`, `b` длиной 10, выполните поэлементное умножение и найдите среднее.\n"
   ]
  },
  {
   "cell_type": "markdown",
   "id": "01793c12",
   "metadata": {},
   "source": [
    "## 2. Pandas — Series и DataFrame\n",
    "- `Series` — одномерная метка+значение,\n",
    "- `DataFrame` — табличные данные (строки/столбцы),\n",
    "- Частые методы: \n",
    "    + `head()` \n",
    "    + `info()` \n",
    "    + `describe()` \n",
    "    + `value_counts()` \n",
    "    + `isna()` \n",
    "    + `groupby()`\n"
   ]
  },
  {
   "cell_type": "code",
   "execution_count": 98,
   "id": "c9e9598f",
   "metadata": {},
   "outputs": [
    {
     "name": "stdout",
     "output_type": "stream",
     "text": [
      "Series s:\n",
      " a    10\n",
      "b    20\n",
      "c    30\n",
      "dtype: int64\n",
      "\n",
      "DataFrame df:\n",
      "      name  age  score\n",
      "0    Anya   15     88\n",
      "1   Boris   16     92\n",
      "2   Katya   15     79\n",
      "3  Dmitri   17     85\n",
      "\n",
      "Колонки: Index(['name', 'age', 'score'], dtype='object')\n",
      "Типы:\n",
      " name     object\n",
      "age       int64\n",
      "score     int64\n",
      "dtype: object\n",
      "\n",
      "df.loc[0]:\n",
      " name     Anya\n",
      "age        15\n",
      "score      88\n",
      "Name: 0, dtype: object\n",
      "\n",
      "df['name']:\n",
      " 0      Anya\n",
      "1     Boris\n",
      "2     Katya\n",
      "3    Dmitri\n",
      "Name: name, dtype: object\n"
     ]
    }
   ],
   "source": [
    "import pandas as pd\n",
    "\n",
    "# Series\n",
    "s = pd.Series([10,20,30], index=['a','b','c'])\n",
    "print(\"Series s:\\n\", s)\n",
    "\n",
    "# DataFrame вручную\n",
    "data = {'name': ['Anya','Boris','Katya','Dmitri'],\n",
    "        'age': [15,16,15,17],\n",
    "        'score': [88,92,79,85]}\n",
    "df = pd.DataFrame(data)\n",
    "print(\"\\nDataFrame df:\\n\", df)\n",
    "print(\"\\nКолонки:\", df.columns)\n",
    "print(\"Типы:\\n\", df.dtypes)\n",
    "print(\"\\ndf.loc[0]:\\n\", df.loc[0])\n",
    "print(\"\\ndf['name']:\\n\", df['name'])"
   ]
  },
  {
   "cell_type": "markdown",
   "id": "9b0b07b2",
   "metadata": {},
   "source": [
    "### Чтение CSV\n",
    "Мы используем встроенный маленький CSV для примера. На практике читаем `pd.read_csv(\"file.csv\")`."
   ]
  },
  {
   "cell_type": "code",
   "execution_count": 99,
   "id": "af2cfda9",
   "metadata": {},
   "outputs": [
    {
     "name": "stdout",
     "output_type": "stream",
     "text": [
      "df2:\n",
      "      name  age  score group\n",
      "0    Anya   15     88     A\n",
      "1   Boris   16     92     A\n",
      "2   Katya   15     79     B\n",
      "3  Dmitri   17     85     B\n",
      "4   Elena   16     91     A\n"
     ]
    }
   ],
   "source": [
    "from io import StringIO\n",
    "\n",
    "csv_text = \"\"\"name,age,score,group\n",
    "Anya,15,88,A\n",
    "Boris,16,92,A\n",
    "Katya,15,79,B\n",
    "Dmitri,17,85,B\n",
    "Elena,16,91,A\n",
    "\"\"\"\n",
    "\n",
    "df2 = pd.read_csv(StringIO(csv_text))\n",
    "print(\"df2:\\n\", df2)"
   ]
  },
  {
   "cell_type": "markdown",
   "id": "fa8907d4",
   "metadata": {},
   "source": [
    "### Быстрый осмотр DataFrame\n",
    "- `df.head()` \n",
    "- `df.info()` \n",
    "- `df.describe()` \n",
    "- `df.shape`"
   ]
  },
  {
   "cell_type": "code",
   "execution_count": 100,
   "id": "2e1bc1b4",
   "metadata": {},
   "outputs": [
    {
     "name": "stdout",
     "output_type": "stream",
     "text": [
      "shape: (5, 4)\n",
      "\n",
      "info:\n",
      "<class 'pandas.core.frame.DataFrame'>\n",
      "RangeIndex: 5 entries, 0 to 4\n",
      "Data columns (total 4 columns):\n",
      " #   Column  Non-Null Count  Dtype \n",
      "---  ------  --------------  ----- \n",
      " 0   name    5 non-null      object\n",
      " 1   age     5 non-null      int64 \n",
      " 2   score   5 non-null      int64 \n",
      " 3   group   5 non-null      object\n",
      "dtypes: int64(2), object(2)\n",
      "memory usage: 292.0+ bytes\n",
      "None\n",
      "\n",
      "describe:\n",
      "         name       age      score group\n",
      "count      5   5.00000   5.000000     5\n",
      "unique     5       NaN        NaN     2\n",
      "top     Anya       NaN        NaN     A\n",
      "freq       1       NaN        NaN     3\n",
      "mean     NaN  15.80000  87.000000   NaN\n",
      "std      NaN   0.83666   5.244044   NaN\n",
      "min      NaN  15.00000  79.000000   NaN\n",
      "25%      NaN  15.00000  85.000000   NaN\n",
      "50%      NaN  16.00000  88.000000   NaN\n",
      "75%      NaN  16.00000  91.000000   NaN\n",
      "max      NaN  17.00000  92.000000   NaN\n"
     ]
    }
   ],
   "source": [
    "print(\"shape:\", df2.shape)\n",
    "print(\"\\ninfo:\")\n",
    "print(df2.info())\n",
    "print(\"\\ndescribe:\\n\", df2.describe(include='all'))"
   ]
  },
  {
   "cell_type": "markdown",
   "id": "3dd51ad4",
   "metadata": {},
   "source": [
    "### Фильтрация, новые колонки, сортировка"
   ]
  },
  {
   "cell_type": "code",
   "execution_count": 101,
   "id": "87b202e1",
   "metadata": {},
   "outputs": [
    {
     "name": "stdout",
     "output_type": "stream",
     "text": [
      "Ученики группы A:\n",
      "     name  age  score group\n",
      "0   Anya   15     88     A\n",
      "1  Boris   16     92     A\n",
      "4  Elena   16     91     A\n",
      "\n",
      "With passed:\n",
      "      name  age  score group  passed\n",
      "0    Anya   15     88     A    True\n",
      "1   Boris   16     92     A    True\n",
      "2   Katya   15     79     B   False\n",
      "3  Dmitri   17     85     B    True\n",
      "4   Elena   16     91     A    True\n",
      "\n",
      "Top by score:\n",
      "     name  age  score group  passed\n",
      "1  Boris   16     92     A    True\n",
      "4  Elena   16     91     A    True\n",
      "0   Anya   15     88     A    True\n"
     ]
    }
   ],
   "source": [
    "# Фильтрация\n",
    "print(\"Ученики группы A:\\n\", df2[df2['group'] == 'A'])\n",
    "\n",
    "# Новая колонка\n",
    "df2['passed'] = df2['score'] >= 80\n",
    "print(\"\\nWith passed:\\n\", df2)\n",
    "\n",
    "# Топ по score\n",
    "print(\"\\nTop by score:\\n\", df2.sort_values('score', ascending=False).head(3))"
   ]
  },
  {
   "cell_type": "markdown",
   "id": "cd8ebb1b",
   "metadata": {},
   "source": [
    "### Пропуски и очистка\n",
    "- Проверить `df.isna().sum()`\n",
    "- Можно `fillna()` средним/медианой, или удалить строки `dropna()`"
   ]
  },
  {
   "cell_type": "code",
   "execution_count": 102,
   "id": "5ef71e96",
   "metadata": {},
   "outputs": [
    {
     "name": "stdout",
     "output_type": "stream",
     "text": [
      "df3:\n",
      "      name   age  score group  passed\n",
      "0    Anya  15.0   88.0     A    True\n",
      "1   Boris  16.0   92.0     A    True\n",
      "2   Katya  15.0    NaN     B   False\n",
      "3  Dmitri  17.0   85.0     B    True\n",
      "4   Elena   NaN   91.0     A    True\n",
      "\n",
      "Missing counts:\n",
      " name      0\n",
      "age       1\n",
      "score     1\n",
      "group     0\n",
      "passed    0\n",
      "dtype: int64\n",
      "\n",
      "Filled df3:\n",
      "      name   age  score group  passed\n",
      "0    Anya  15.0   88.0     A    True\n",
      "1   Boris  16.0   92.0     A    True\n",
      "2   Katya  15.0   89.0     B   False\n",
      "3  Dmitri  17.0   85.0     B    True\n",
      "4   Elena  15.5   91.0     A    True\n"
     ]
    }
   ],
   "source": [
    "# Пример пропусков и заполнения\n",
    "df3 = df2.copy()\n",
    "df3.loc[2, 'score'] = None\n",
    "df3.loc[4, 'age'] = None\n",
    "print(\"df3:\\n\", df3)\n",
    "print(\"\\nMissing counts:\\n\", df3.isna().sum())\n",
    "\n",
    "# Заполняем\n",
    "df3['score'] = df3['score'].fillna(df3['score'].mean())\n",
    "df3['age'] = df3['age'].fillna(df3['age'].median())\n",
    "print(\"\\nFilled df3:\\n\", df3)"
   ]
  },
  {
   "cell_type": "markdown",
   "id": "2dba524f",
   "metadata": {},
   "source": [
    "## Сохранение работы и сдача ДЗ\n",
    "- Выполнить практическую работу в конце раздела \"NumPy\"\n",
    "- В Colab: `File -> Save a copy in GitHub` → выбрать репозиторий `DS_intro` → указать ветку `homework/lesson2-<yourname>` и короткий message.  \n",
    "- Локально: `File -> Download .ipynb` и загрузить на GitHub вручную через графику.  \n",
    "- Указать в [таблице](https://docs.google.com/spreadsheets/d/1a1h71raeU-3O0DM2DwVADAMlWlimWq9gzgGY1_oESXw/edit?usp=sharing) актуальную ссылку на репозиторий и ноутбук с ДЗ №1 и №2.\n",
    "\n",
    "**Срок:** до следующего занятия.  \n",
    "**Вопросы:** в Telegram."
   ]
  },
  {
   "cell_type": "markdown",
   "id": "430ff3a0",
   "metadata": {},
   "source": [
    "## Полезные ссылки\n",
    "- NumPy docs: https://numpy.org/doc/  \n",
    "- Pandas docs: https://pandas.pydata.org/docs/  \n",
    "- Titanic dataset (Kaggle): https://www.kaggle.com/c/titanic\n",
    "- Colab: https://colab.research.google.com"
   ]
  }
 ],
 "metadata": {
  "kernelspec": {
   "display_name": "Python 3",
   "language": "python",
   "name": "python3"
  },
  "language_info": {
   "codemirror_mode": {
    "name": "ipython",
    "version": 3
   },
   "file_extension": ".py",
   "mimetype": "text/x-python",
   "name": "python",
   "nbconvert_exporter": "python",
   "pygments_lexer": "ipython3",
   "version": "3.12.11"
  }
 },
 "nbformat": 4,
 "nbformat_minor": 5
}
