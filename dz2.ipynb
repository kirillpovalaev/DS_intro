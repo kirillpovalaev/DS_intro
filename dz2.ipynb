{
 "cells": [
  {
   "metadata": {
    "ExecuteTime": {
     "end_time": "2025-10-09T20:45:19.886529Z",
     "start_time": "2025-10-09T20:45:19.884154Z"
    }
   },
   "cell_type": "code",
   "source": "import numpy as np",
   "id": "6292372f3b02f01b",
   "outputs": [],
   "execution_count": 22
  },
  {
   "metadata": {},
   "cell_type": "markdown",
   "source": "Массив данных 1...30 и элементы, кратные 3-м:",
   "id": "f6b594f054dab6ef"
  },
  {
   "metadata": {
    "ExecuteTime": {
     "end_time": "2025-10-09T20:34:17.112675Z",
     "start_time": "2025-10-09T20:34:17.109420Z"
    }
   },
   "cell_type": "code",
   "source": [
    "arr = np.arange(1, 31)\n",
    "arr3 = arr[arr % 3 == 0]\n",
    "print(\"Массив данных:\", arr)\n",
    "print(\"Кратные трем элементы:\",arr3)"
   ],
   "id": "7b4e0b62ed2a2a8",
   "outputs": [
    {
     "name": "stdout",
     "output_type": "stream",
     "text": [
      "Массив данных: [ 1  2  3  4  5  6  7  8  9 10 11 12 13 14 15 16 17 18 19 20 21 22 23 24\n",
      " 25 26 27 28 29 30]\n",
      "Кратные трем элементы: [ 3  6  9 12 15 18 21 24 27 30]\n"
     ]
    }
   ],
   "execution_count": 6
  },
  {
   "metadata": {},
   "cell_type": "markdown",
   "source": "Матрица 6х5 -> 5х6 и сумма по столбцам:",
   "id": "9161ae7d52edfce"
  },
  {
   "metadata": {
    "ExecuteTime": {
     "end_time": "2025-10-09T20:41:39.368082Z",
     "start_time": "2025-10-09T20:41:39.363346Z"
    }
   },
   "cell_type": "code",
   "source": [
    "m = np.arange(1, 31).reshape((6, 5))\n",
    "r = m.reshape((5, 6))\n",
    "print(\"Исходная матрица 6х5:\")\n",
    "print(m)\n",
    "print(\"Сумма по столбцам: \", m.sum(axis=0))\n",
    "print()\n",
    "print(\"Измененная матрица 5х6:\")\n",
    "print(r)\n",
    "print(\"Сумма по столбцам: \", r.sum(axis=0))\n"
   ],
   "id": "5c7b7be1f7c7150",
   "outputs": [
    {
     "name": "stdout",
     "output_type": "stream",
     "text": [
      "Исходная матрица 6х5:\n",
      "[[ 1  2  3  4  5]\n",
      " [ 6  7  8  9 10]\n",
      " [11 12 13 14 15]\n",
      " [16 17 18 19 20]\n",
      " [21 22 23 24 25]\n",
      " [26 27 28 29 30]]\n",
      "Сумма по столбцам:  [ 81  87  93  99 105]\n",
      "\n",
      "Измененная матрица 5х6:\n",
      "[[ 1  2  3  4  5  6]\n",
      " [ 7  8  9 10 11 12]\n",
      " [13 14 15 16 17 18]\n",
      " [19 20 21 22 23 24]\n",
      " [25 26 27 28 29 30]]\n",
      "Сумма по столбцам:  [65 70 75 80 85 90]\n"
     ]
    }
   ],
   "execution_count": 13
  },
  {
   "metadata": {},
   "cell_type": "markdown",
   "source": "Два случайных массива, их поэлементное умножение и среднее:",
   "id": "79164be21201d3dd"
  },
  {
   "metadata": {
    "ExecuteTime": {
     "end_time": "2025-10-09T20:48:47.024337Z",
     "start_time": "2025-10-09T20:48:47.020334Z"
    }
   },
   "cell_type": "code",
   "source": [
    "a = np.random.rand(10)\n",
    "b = np.random.rand(10)\n",
    "print(\"Массив a: \", a)\n",
    "print(\"Массив b: \", b)\n",
    "m = a * b\n",
    "print(\"Результат поэлементного умножения: \", m)\n",
    "a = np.mean(m)\n",
    "print(\"Среднее значение: \", a)"
   ],
   "id": "7d76655770ea1b70",
   "outputs": [
    {
     "name": "stdout",
     "output_type": "stream",
     "text": [
      "Массив a:  [0.13515807 0.36020862 0.56070257 0.42378665 0.32522712 0.16737798\n",
      " 0.77335239 0.48103224 0.02410722 0.54176036]\n",
      "Массив b:  [0.5298956  0.01678829 0.78233557 0.10827632 0.88527411 0.89180986\n",
      " 0.82105748 0.94032217 0.01689245 0.89339754]\n",
      "Результат поэлементного умножения:  [7.16196659e-02 6.04728637e-03 4.38657562e-01 4.58860586e-02\n",
      " 2.87915151e-01 1.49269334e-01 6.34966763e-01 4.52325278e-01\n",
      " 4.07230025e-04 4.84007370e-01]\n",
      "Среднее значение:  0.25711016985878654\n"
     ]
    }
   ],
   "execution_count": 32
  }
 ],
 "metadata": {
  "kernelspec": {
   "display_name": "Python 3",
   "language": "python",
   "name": "python3"
  },
  "language_info": {
   "codemirror_mode": {
    "name": "ipython",
    "version": 2
   },
   "file_extension": ".py",
   "mimetype": "text/x-python",
   "name": "python",
   "nbconvert_exporter": "python",
   "pygments_lexer": "ipython2",
   "version": "2.7.6"
  }
 },
 "nbformat": 4,
 "nbformat_minor": 5
}
