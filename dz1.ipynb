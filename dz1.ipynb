{
 "cells": [
  {
   "metadata": {},
   "cell_type": "raw",
   "source": "Д/З",
   "id": "267e335828416fe8"
  },
  {
   "metadata": {},
   "cell_type": "markdown",
   "source": "Калькулятор квадратных уравнений:",
   "id": "c7128aef4b2da2d"
  },
  {
   "metadata": {
    "ExecuteTime": {
     "end_time": "2025-10-09T19:52:57.525986Z",
     "start_time": "2025-10-09T19:52:53.315154Z"
    }
   },
   "cell_type": "code",
   "source": [
    "a = int(input(\"Коэф. a: \"))\n",
    "b = int(input(\"Коэф. b: \"))\n",
    "c = int(input(\"Коэф. c: \"))\n",
    "print(str(a) + \"x² + \" + str(b) + \"x + \" + str(c) + \" = 0\")\n",
    "d = b * b - 4 * a * c\n",
    "print(\"Дискриминант: \" + str(d))\n",
    "if d > 0:\n",
    "    x1 = (-b - (b**2 - 4*a*c)**0.5) / (2 * a)\n",
    "    x2 = (-b + d**0.5) / (2 * a)\n",
    "    print(\"Первый корень:\", int(x1), end=\".\\n\")\n",
    "    print(\"Второй корень:\", int(x2), end=\".\\n\")\n",
    "elif d == 0:\n",
    "    x = -b / (2 * a)\n",
    "    print(\"Только один корень: \" + str(x))\n",
    "else:\n",
    "    print(\"Корней нет\")"
   ],
   "id": "4e540b31a491eac4",
   "outputs": [
    {
     "name": "stdout",
     "output_type": "stream",
     "text": [
      "1x² + 4x + 3 = 0\n",
      "Дискриминант: 4\n",
      "Первый корень: -3.\n",
      "Второй корень: -1.\n"
     ]
    }
   ],
   "execution_count": 26
  },
  {
   "metadata": {},
   "cell_type": "markdown",
   "source": "Программа, считающая числа от 1 до N",
   "id": "dcad32f3e256f775"
  },
  {
   "metadata": {
    "ExecuteTime": {
     "end_time": "2025-10-09T19:56:46.136165Z",
     "start_time": "2025-10-09T19:56:44.820161Z"
    }
   },
   "cell_type": "code",
   "source": [
    "N =  int(input(\"N = \"))\n",
    "s = 0\n",
    "for i in range(N + 1):\n",
    "    s += i\n",
    "print(\"Сумма чисел от 1 до\", N, \"=\", s)\n"
   ],
   "id": "ffc235e67563970a",
   "outputs": [
    {
     "name": "stdout",
     "output_type": "stream",
     "text": [
      "Сумма чисел от 1 до 3 = 6\n"
     ]
    }
   ],
   "execution_count": 49
  },
  {
   "metadata": {},
   "cell_type": "markdown",
   "source": "Программа, выводящая номер подъезда и этажа в зависимости от номера квартиры\n",
   "id": "fee5ef9a6c830766"
  },
  {
   "metadata": {
    "ExecuteTime": {
     "end_time": "2025-10-09T20:08:04.565848Z",
     "start_time": "2025-10-09T20:08:00.571345Z"
    }
   },
   "cell_type": "code",
   "source": [
    "n = int(input(\"Номер квартиры: \"))\n",
    "k = 20\n",
    "o = 4\n",
    "p = (n - 1) // k + 1\n",
    "f = ((n - 1) % k) // o + 1\n",
    "print(\"Квартира №\" + str(n) + \" находится на\", f,\"этаже \" + str(p) + \"-го подъезда\")\n"
   ],
   "id": "d49d5264c52cb8a5",
   "outputs": [
    {
     "name": "stdout",
     "output_type": "stream",
     "text": [
      "Квартира №78 находится на 5 этаже 4-го подъезда\n"
     ]
    }
   ],
   "execution_count": 61
  }
 ],
 "metadata": {
  "kernelspec": {
   "display_name": "Python 3",
   "language": "python",
   "name": "python3"
  },
  "language_info": {
   "codemirror_mode": {
    "name": "ipython",
    "version": 2
   },
   "file_extension": ".py",
   "mimetype": "text/x-python",
   "name": "python",
   "nbconvert_exporter": "python",
   "pygments_lexer": "ipython2",
   "version": "2.7.6"
  }
 },
 "nbformat": 4,
 "nbformat_minor": 5
}
